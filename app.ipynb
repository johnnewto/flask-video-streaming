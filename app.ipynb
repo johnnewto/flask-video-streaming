{
 "cells": [
  {
   "cell_type": "code",
   "execution_count": 2,
   "metadata": {
    "collapsed": true,
    "pycharm": {
     "is_executing": false
    }
   },
   "outputs": [],
   "source": [
    "%load_ext autoreload\n",
    "%autoreload 2"
   ]
  },
  {
   "cell_type": "code",
   "execution_count": 1,
   "metadata": {
    "pycharm": {
     "is_executing": false,
     "name": "#%%\n"
    }
   },
   "outputs": [
    {
     "name": "stderr",
     "text": [
      "2020-01-03 22:21:19,103 FrontLeft-INFO initialize(420) Camera successfully initialised\n",
      "2020-01-03 22:21:19,104 FrontLeft-INFO __init__(131) Camera instance created with name: FrontLeft.\n",
      " * Running on http://0.0.0.0:5000/ (Press CTRL+C to quit)\n",
      "127.0.0.1 - - [03/Jan/2020 22:21:22] \"GET / HTTP/1.1\" 200 -\n",
      "2020-01-03 22:21:23,164 FrontLeft-INFO start(722) Acquisition started, name: FrontLeft\n",
      "127.0.0.1 - - [03/Jan/2020 22:21:25] \"GET /video_feed HTTP/1.1\" 200 -\n"
     ],
     "output_type": "stream"
    },
    {
     "name": "stdout",
     "text": [
      "Starting camera thread.\n",
      "Stopping camera thread due to inactivity.\n"
     ],
     "output_type": "stream"
    }
   ],
   "source": [
    "from threading import Thread\n",
    "from werkzeug.serving import run_simple\n",
    "from flask import Flask, render_template, Response\n",
    "# from camera_opencv import Camera\n",
    "from camera_FLIR import Camera_FLIR\n",
    "from FLIRCam.USB_camera import Camera as FLIRCamera\n",
    "cam_1 = FLIRCamera(model='ptgrey', identity='19312753', name='FrontLeft')\n",
    "\n",
    "app = Flask(__name__)\n",
    "\n",
    "@app.route('/')\n",
    "def index():\n",
    "    \"\"\"Video streaming home page.\"\"\"\n",
    "    return render_template('index.html')\n",
    "\n",
    "def gen(camera):\n",
    "    \"\"\"Video streaming generator function.\"\"\"\n",
    "    while True:\n",
    "        frame = camera.get_frame()\n",
    "        yield (b'--frame\\r\\n'\n",
    "               b'Content-Type: image/jpeg\\r\\n\\r\\n' + frame + b'\\r\\n')\n",
    "\n",
    "@app.route('/video_feed')\n",
    "def video_feed():\n",
    "    \"\"\"Video streaming route. Put this in the src attribute of an img tag.\"\"\"\n",
    "    return Response(gen(Camera_FLIR(cam_1)),\n",
    "                    mimetype='multipart/x-mixed-replace; boundary=frame')\n",
    "\n",
    "\n",
    "\n",
    "# if __name__ == '__main__':\n",
    "# \n",
    "#     app.run(host='0.0.0.0', threaded=False, use_reloader=False)\n",
    "\n",
    "# app.run(host='0.0.0.0', threaded=False)\n",
    "_port: int = 5000\n",
    "_host='0.0.0.0'\n",
    "thread = Thread(target=lambda: run_simple(_host, _port, app))\n",
    "thread.start()"
   ]
  },
  {
   "cell_type": "code",
   "execution_count": 8,
   "metadata": {
    "pycharm": {
     "is_executing": false,
     "name": "#%%\n"
    }
   },
   "outputs": [
    {
     "name": "stderr",
     "text": [
      "2020-01-03 22:24:13,773 FrontLeft-INFO stop(727) Camera was not running, name: FrontLeft\n"
     ],
     "output_type": "stream"
    }
   ],
   "source": [
    "cam_1.stop()\n"
   ]
  },
  {
   "cell_type": "code",
   "execution_count": 6,
   "outputs": [
    {
     "name": "stderr",
     "text": [
      "2020-01-03 22:23:48,109 FrontLeft-INFO start(722) Acquisition started, name: FrontLeft\n"
     ],
     "output_type": "stream"
    }
   ],
   "source": [
    "cam_1.start()"
   ],
   "metadata": {
    "collapsed": false,
    "pycharm": {
     "name": "#%%\n",
     "is_executing": false
    }
   }
  },
  {
   "cell_type": "code",
   "execution_count": null,
   "outputs": [],
   "source": [
    "from multiprocessing import Process\n",
    "\n",
    "server = Process(target=app.run)\n",
    "server.start()\n",
    "# ...\n",
    "server.terminate()\n",
    "server.join()"
   ],
   "metadata": {
    "collapsed": false,
    "pycharm": {
     "name": "#%%\n"
    }
   }
  },
  {
   "cell_type": "code",
   "execution_count": 1,
   "outputs": [
    {
     "name": "stdout",
     "text": [
      " * Serving Flask app \"__main__\" (lazy loading)\n",
      " * Environment: production\n",
      "   WARNING: This is a development server. Do not use it in a production deployment.\n",
      "   Use a production WSGI server instead.\n",
      " * Debug mode: off\n"
     ],
     "output_type": "stream"
    },
    {
     "name": "stderr",
     "text": [
      " * Running on http://127.0.0.1:5000/ (Press CTRL+C to quit)\n",
      "127.0.0.1 - - [03/Jan/2020 20:41:00] \"GET / HTTP/1.1\" 200 -\n",
      "127.0.0.1 - - [03/Jan/2020 20:41:01] \"GET /favicon.ico HTTP/1.1\" 404 -\n",
      "127.0.0.1 - - [03/Jan/2020 20:41:04] \"GET / HTTP/1.1\" 200 -\n"
     ],
     "output_type": "stream"
    }
   ],
   "source": [
    "from flask import Flask                                                         \n",
    "import threading\n",
    "\n",
    "data = 'foo'\n",
    "app = Flask(__name__)\n",
    "app.use_reloader = False\n",
    "@app.route(\"/\")\n",
    "def main():\n",
    "    return data\n",
    "\n",
    "if __name__ == \"__main__\":\n",
    "    threading.Thread(target=app.run).start()"
   ],
   "metadata": {
    "collapsed": false,
    "pycharm": {
     "name": "#%%\n",
     "is_executing": false
    }
   }
  },
  {
   "cell_type": "code",
   "execution_count": 3,
   "outputs": [
    {
     "traceback": [
      "\u001b[0;31m---------------------------------------------------------------------------\u001b[0m",
      "\u001b[0;31mAttributeError\u001b[0m                            Traceback (most recent call last)",
      "\u001b[0;32m<ipython-input-3-6e6531be3777>\u001b[0m in \u001b[0;36m<module>\u001b[0;34m\u001b[0m\n\u001b[0;32m----> 1\u001b[0;31m \u001b[0mapp\u001b[0m\u001b[0;34m.\u001b[0m\u001b[0mshutdown\u001b[0m\u001b[0;34m(\u001b[0m\u001b[0;34m)\u001b[0m\u001b[0;34m\u001b[0m\u001b[0;34m\u001b[0m\u001b[0m\n\u001b[0m\u001b[1;32m      2\u001b[0m \u001b[0;34m\u001b[0m\u001b[0m\n",
      "\u001b[0;31mAttributeError\u001b[0m: 'Flask' object has no attribute 'shutdown'"
     ],
     "ename": "AttributeError",
     "evalue": "'Flask' object has no attribute 'shutdown'",
     "output_type": "error"
    }
   ],
   "source": [
    "app.shutdown()"
   ],
   "metadata": {
    "collapsed": false,
    "pycharm": {
     "name": "#%%\n",
     "is_executing": false
    }
   }
  },
  {
   "cell_type": "code",
   "execution_count": null,
   "outputs": [],
   "source": [
    "# # from werkzeug.serving import run_simple\n",
    "# import threading\n",
    "# from time import sleep\n",
    "# \n",
    "# import threading\n",
    "# \n",
    "# class App:\n",
    "#     def __init__(self, nloops=2000):\n",
    "#         self.nloops = nloops\n",
    "#         self.stopped = False\n",
    "#         # self.thread = threading.Thread(target=self.update, args=())\n",
    "#         self.thread = threading.Thread(target=lambda: run_simple(_host, _port, app))\n",
    "#         # self.thread.daemon = True\n",
    "#         self.thread.start()\n",
    "# \n",
    "#         self.count = 0\n",
    "# \n",
    "#         \n",
    "#     def update(self):\n",
    "#         # display(self.pb)\n",
    "#         for i in range (20):\n",
    "#             print(i, end='')\n",
    "#             sleep(0.5)\n",
    "#             self.count += 1\n",
    "#             if self.stopped:\n",
    "#                 break\n",
    "#         print('Stopped')\n",
    "#         \n",
    "#     def stop(self):\n",
    "#         \"\"\"indicate that the thread should be stopped\"\"\"\n",
    "#         self.stopped = True\n",
    "#         # wait until stream resources are released (producer thread might be still grabbing frame)\n",
    "#         self.thread.join()\n",
    "#         \n",
    "# app1 = App(nloops=2000)\n"
   ],
   "metadata": {
    "collapsed": false,
    "pycharm": {
     "name": "#%%\n"
    }
   }
  },
  {
   "cell_type": "code",
   "execution_count": 7,
   "outputs": [
    {
     "name": "stdout",
     "text": [
      "20\n",
      "20\n",
      "20\n",
      "20\n",
      "20\n",
      "20\n",
      "20\n",
      "20\n",
      "20\n",
      "20\n",
      "20\n",
      "20\n",
      "20\n",
      "20\n",
      "20\n",
      "20\n",
      "20\n",
      "20\n",
      "20\n",
      "20\n",
      "Starting camera thread.\n",
      "Stopping camera thread due to inactivity.\n",
      "Starting camera thread.\n"
     ],
     "output_type": "stream"
    },
    {
     "name": "stderr",
     "text": [
      "127.0.0.1 - - [03/Jan/2020 18:43:14] \"GET / HTTP/1.1\" 200 -\n",
      "2020-01-03 18:43:16,050 FrontLeft-INFO initialize(420) Camera successfully initialised\n",
      "2020-01-03 18:43:16,052 FrontLeft-INFO __init__(131) Camera instance created with name: FrontLeft.\n",
      "2020-01-03 18:43:16,279 FrontLeft-INFO start(722) Acquisition started, name: FrontLeft\n",
      "127.0.0.1 - - [03/Jan/2020 18:43:18] \"GET /video_feed HTTP/1.1\" 200 -\n",
      "127.0.0.1 - - [03/Jan/2020 18:44:30] \"GET / HTTP/1.1\" 200 -\n",
      "Exception in thread Thread-14:\nTraceback (most recent call last):\n  File \"/usr/lib/python3.6/threading.py\", line 916, in _bootstrap_inner\n    self.run()\n  File \"/usr/lib/python3.6/threading.py\", line 864, in run\n    self._target(*self._args, **self._kwargs)\n  File \"/home/john/github/flask-video-streaming/base_camera.py\", line 93, in _thread\n    for frame in frames_iterator:\n  File \"/home/john/github/flask-video-streaming/camera_FLIR.py\", line 28, in frames\n    FLIRcam = FLIRCamera(model='ptgrey', identity='19312753', name='FrontLeft')\n  File \"/home/john/github/flask-video-streaming/FLIRCam/USB_camera.py\", line 121, in __init__\n    self.identity = identity\n  File \"/home/john/github/flask-video-streaming/FLIRCam/USB_camera.py\", line 331, in identity\n    raise RuntimeError('The camera is already in use')\nRuntimeError: The camera is already in use\n\n"
     ],
     "output_type": "stream"
    }
   ],
   "source": [
    "# for i in range (20):\n",
    "#     print(app1.count)\n",
    "#     sleep(0.25)\n",
    "#     \n",
    "# app1.stop()\n",
    "\n"
   ],
   "metadata": {
    "collapsed": false,
    "pycharm": {
     "name": "#%%\n",
     "is_executing": false
    }
   }
  },
  {
   "cell_type": "code",
   "execution_count": null,
   "metadata": {
    "pycharm": {
     "is_executing": true,
     "name": "#%%\n"
    }
   },
   "outputs": [],
   "source": [
    "\n",
    "app1.stop()"
   ]
  },
  {
   "cell_type": "code",
   "execution_count": 27,
   "metadata": {
    "pycharm": {
     "is_executing": false,
     "name": "#%%\n"
    }
   },
   "outputs": [
    {
     "data": {
      "text/plain": "2"
     },
     "metadata": {},
     "output_type": "execute_result",
     "execution_count": 27
    }
   ],
   "source": [
    "1+1\n",
    "\n"
   ]
  },
  {
   "cell_type": "code",
   "execution_count": null,
   "metadata": {
    "pycharm": {
     "name": "#%%\n"
    }
   },
   "outputs": [],
   "source": [
    "\n"
   ]
  }
 ],
 "metadata": {
  "kernelspec": {
   "display_name": "Python 3",
   "language": "python",
   "name": "python3"
  },
  "language_info": {
   "codemirror_mode": {
    "name": "ipython",
    "version": 3
   },
   "file_extension": ".py",
   "mimetype": "text/x-python",
   "name": "python",
   "nbconvert_exporter": "python",
   "pygments_lexer": "ipython3",
   "version": "3.6.9"
  },
  "pycharm": {
   "stem_cell": {
    "cell_type": "raw",
    "source": [],
    "metadata": {
     "collapsed": false
    }
   }
  },
  "toc": {
   "base_numbering": 1,
   "nav_menu": {},
   "number_sections": true,
   "sideBar": true,
   "skip_h1_title": false,
   "title_cell": "Table of Contents",
   "title_sidebar": "Contents",
   "toc_cell": false,
   "toc_position": {},
   "toc_section_display": true,
   "toc_window_display": false
  }
 },
 "nbformat": 4,
 "nbformat_minor": 1
}